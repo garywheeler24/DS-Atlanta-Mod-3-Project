{
 "cells": [
  {
   "cell_type": "markdown",
   "metadata": {},
   "source": [
    "Our client is a banking firm located in Europe. They have just completed their latest marketing campaign and they found that reaching out to every customer in their database is both costly and wasteful. We have advised that they create a customer avatar for each product and target their ideal customer in their campaigns instead. The data provided to us to complete this task was the resulting data from their latest marketing campaign. My task specifically, is to conduct a series of hypothesis tests to confirm or dismiss certain assumptions that the company has about their ideal client.\n",
    "\n",
    "Let's get started."
   ]
  },
  {
   "cell_type": "markdown",
   "metadata": {},
   "source": [
    "We will start by importing the necessary packages and having a look at the data that has been provided."
   ]
  },
  {
   "cell_type": "code",
   "execution_count": 84,
   "metadata": {},
   "outputs": [],
   "source": [
    "import pandas as pd\n",
    "import numpy as np\n",
    "import seaborn as sns\n",
    "import math\n",
    "import matplotlib.pyplot as plt\n",
    "from statsmodels.stats.proportion import proportions_ztest\n",
    "from statsmodels.stats import power\n",
    "from statsmodels.stats.power import TTestIndPower\n",
    "\n"
   ]
  },
  {
   "cell_type": "code",
   "execution_count": 2,
   "metadata": {},
   "outputs": [],
   "source": [
    "df = pd.read_csv('bank-additional-full.csv', sep=';')\n",
    "pd.set_option('display.max_columns', None)\n"
   ]
  },
  {
   "cell_type": "markdown",
   "metadata": {},
   "source": [
    "With the data loaded in, first I will have a look to make sure there are no missing valiues and that the data is clean."
   ]
  },
  {
   "cell_type": "code",
   "execution_count": 3,
   "metadata": {
    "scrolled": true
   },
   "outputs": [
    {
     "name": "stdout",
     "output_type": "stream",
     "text": [
      "<class 'pandas.core.frame.DataFrame'>\n",
      "RangeIndex: 41188 entries, 0 to 41187\n",
      "Data columns (total 21 columns):\n",
      "age               41188 non-null int64\n",
      "job               41188 non-null object\n",
      "marital           41188 non-null object\n",
      "education         41188 non-null object\n",
      "default           41188 non-null object\n",
      "housing           41188 non-null object\n",
      "loan              41188 non-null object\n",
      "contact           41188 non-null object\n",
      "month             41188 non-null object\n",
      "day_of_week       41188 non-null object\n",
      "duration          41188 non-null int64\n",
      "campaign          41188 non-null int64\n",
      "pdays             41188 non-null int64\n",
      "previous          41188 non-null int64\n",
      "poutcome          41188 non-null object\n",
      "emp.var.rate      41188 non-null float64\n",
      "cons.price.idx    41188 non-null float64\n",
      "cons.conf.idx     41188 non-null float64\n",
      "euribor3m         41188 non-null float64\n",
      "nr.employed       41188 non-null float64\n",
      "y                 41188 non-null object\n",
      "dtypes: float64(5), int64(5), object(11)\n",
      "memory usage: 6.6+ MB\n"
     ]
    }
   ],
   "source": [
    "df.info()"
   ]
  },
  {
   "cell_type": "code",
   "execution_count": 4,
   "metadata": {},
   "outputs": [
    {
     "data": {
      "text/plain": [
       "age               0\n",
       "job               0\n",
       "marital           0\n",
       "education         0\n",
       "default           0\n",
       "housing           0\n",
       "loan              0\n",
       "contact           0\n",
       "month             0\n",
       "day_of_week       0\n",
       "duration          0\n",
       "campaign          0\n",
       "pdays             0\n",
       "previous          0\n",
       "poutcome          0\n",
       "emp.var.rate      0\n",
       "cons.price.idx    0\n",
       "cons.conf.idx     0\n",
       "euribor3m         0\n",
       "nr.employed       0\n",
       "y                 0\n",
       "dtype: int64"
      ]
     },
     "execution_count": 4,
     "metadata": {},
     "output_type": "execute_result"
    }
   ],
   "source": [
    "df.isnull().sum()"
   ]
  },
  {
   "cell_type": "code",
   "execution_count": 5,
   "metadata": {
    "scrolled": true
   },
   "outputs": [
    {
     "data": {
      "text/html": [
       "<div>\n",
       "<style scoped>\n",
       "    .dataframe tbody tr th:only-of-type {\n",
       "        vertical-align: middle;\n",
       "    }\n",
       "\n",
       "    .dataframe tbody tr th {\n",
       "        vertical-align: top;\n",
       "    }\n",
       "\n",
       "    .dataframe thead th {\n",
       "        text-align: right;\n",
       "    }\n",
       "</style>\n",
       "<table border=\"1\" class=\"dataframe\">\n",
       "  <thead>\n",
       "    <tr style=\"text-align: right;\">\n",
       "      <th></th>\n",
       "      <th>age</th>\n",
       "      <th>duration</th>\n",
       "      <th>campaign</th>\n",
       "      <th>pdays</th>\n",
       "      <th>previous</th>\n",
       "      <th>emp.var.rate</th>\n",
       "      <th>cons.price.idx</th>\n",
       "      <th>cons.conf.idx</th>\n",
       "      <th>euribor3m</th>\n",
       "      <th>nr.employed</th>\n",
       "    </tr>\n",
       "  </thead>\n",
       "  <tbody>\n",
       "    <tr>\n",
       "      <th>count</th>\n",
       "      <td>41188.00000</td>\n",
       "      <td>41188.000000</td>\n",
       "      <td>41188.000000</td>\n",
       "      <td>41188.000000</td>\n",
       "      <td>41188.000000</td>\n",
       "      <td>41188.000000</td>\n",
       "      <td>41188.000000</td>\n",
       "      <td>41188.000000</td>\n",
       "      <td>41188.000000</td>\n",
       "      <td>41188.000000</td>\n",
       "    </tr>\n",
       "    <tr>\n",
       "      <th>mean</th>\n",
       "      <td>40.02406</td>\n",
       "      <td>258.285010</td>\n",
       "      <td>2.567593</td>\n",
       "      <td>962.475454</td>\n",
       "      <td>0.172963</td>\n",
       "      <td>0.081886</td>\n",
       "      <td>93.575664</td>\n",
       "      <td>-40.502600</td>\n",
       "      <td>3.621291</td>\n",
       "      <td>5167.035911</td>\n",
       "    </tr>\n",
       "    <tr>\n",
       "      <th>std</th>\n",
       "      <td>10.42125</td>\n",
       "      <td>259.279249</td>\n",
       "      <td>2.770014</td>\n",
       "      <td>186.910907</td>\n",
       "      <td>0.494901</td>\n",
       "      <td>1.570960</td>\n",
       "      <td>0.578840</td>\n",
       "      <td>4.628198</td>\n",
       "      <td>1.734447</td>\n",
       "      <td>72.251528</td>\n",
       "    </tr>\n",
       "    <tr>\n",
       "      <th>min</th>\n",
       "      <td>17.00000</td>\n",
       "      <td>0.000000</td>\n",
       "      <td>1.000000</td>\n",
       "      <td>0.000000</td>\n",
       "      <td>0.000000</td>\n",
       "      <td>-3.400000</td>\n",
       "      <td>92.201000</td>\n",
       "      <td>-50.800000</td>\n",
       "      <td>0.634000</td>\n",
       "      <td>4963.600000</td>\n",
       "    </tr>\n",
       "    <tr>\n",
       "      <th>25%</th>\n",
       "      <td>32.00000</td>\n",
       "      <td>102.000000</td>\n",
       "      <td>1.000000</td>\n",
       "      <td>999.000000</td>\n",
       "      <td>0.000000</td>\n",
       "      <td>-1.800000</td>\n",
       "      <td>93.075000</td>\n",
       "      <td>-42.700000</td>\n",
       "      <td>1.344000</td>\n",
       "      <td>5099.100000</td>\n",
       "    </tr>\n",
       "    <tr>\n",
       "      <th>50%</th>\n",
       "      <td>38.00000</td>\n",
       "      <td>180.000000</td>\n",
       "      <td>2.000000</td>\n",
       "      <td>999.000000</td>\n",
       "      <td>0.000000</td>\n",
       "      <td>1.100000</td>\n",
       "      <td>93.749000</td>\n",
       "      <td>-41.800000</td>\n",
       "      <td>4.857000</td>\n",
       "      <td>5191.000000</td>\n",
       "    </tr>\n",
       "    <tr>\n",
       "      <th>75%</th>\n",
       "      <td>47.00000</td>\n",
       "      <td>319.000000</td>\n",
       "      <td>3.000000</td>\n",
       "      <td>999.000000</td>\n",
       "      <td>0.000000</td>\n",
       "      <td>1.400000</td>\n",
       "      <td>93.994000</td>\n",
       "      <td>-36.400000</td>\n",
       "      <td>4.961000</td>\n",
       "      <td>5228.100000</td>\n",
       "    </tr>\n",
       "    <tr>\n",
       "      <th>max</th>\n",
       "      <td>98.00000</td>\n",
       "      <td>4918.000000</td>\n",
       "      <td>56.000000</td>\n",
       "      <td>999.000000</td>\n",
       "      <td>7.000000</td>\n",
       "      <td>1.400000</td>\n",
       "      <td>94.767000</td>\n",
       "      <td>-26.900000</td>\n",
       "      <td>5.045000</td>\n",
       "      <td>5228.100000</td>\n",
       "    </tr>\n",
       "  </tbody>\n",
       "</table>\n",
       "</div>"
      ],
      "text/plain": [
       "               age      duration      campaign         pdays      previous  \\\n",
       "count  41188.00000  41188.000000  41188.000000  41188.000000  41188.000000   \n",
       "mean      40.02406    258.285010      2.567593    962.475454      0.172963   \n",
       "std       10.42125    259.279249      2.770014    186.910907      0.494901   \n",
       "min       17.00000      0.000000      1.000000      0.000000      0.000000   \n",
       "25%       32.00000    102.000000      1.000000    999.000000      0.000000   \n",
       "50%       38.00000    180.000000      2.000000    999.000000      0.000000   \n",
       "75%       47.00000    319.000000      3.000000    999.000000      0.000000   \n",
       "max       98.00000   4918.000000     56.000000    999.000000      7.000000   \n",
       "\n",
       "       emp.var.rate  cons.price.idx  cons.conf.idx     euribor3m   nr.employed  \n",
       "count  41188.000000    41188.000000   41188.000000  41188.000000  41188.000000  \n",
       "mean       0.081886       93.575664     -40.502600      3.621291   5167.035911  \n",
       "std        1.570960        0.578840       4.628198      1.734447     72.251528  \n",
       "min       -3.400000       92.201000     -50.800000      0.634000   4963.600000  \n",
       "25%       -1.800000       93.075000     -42.700000      1.344000   5099.100000  \n",
       "50%        1.100000       93.749000     -41.800000      4.857000   5191.000000  \n",
       "75%        1.400000       93.994000     -36.400000      4.961000   5228.100000  \n",
       "max        1.400000       94.767000     -26.900000      5.045000   5228.100000  "
      ]
     },
     "execution_count": 5,
     "metadata": {},
     "output_type": "execute_result"
    }
   ],
   "source": [
    "df.describe()"
   ]
  },
  {
   "cell_type": "code",
   "execution_count": 6,
   "metadata": {},
   "outputs": [
    {
     "data": {
      "text/html": [
       "<div>\n",
       "<style scoped>\n",
       "    .dataframe tbody tr th:only-of-type {\n",
       "        vertical-align: middle;\n",
       "    }\n",
       "\n",
       "    .dataframe tbody tr th {\n",
       "        vertical-align: top;\n",
       "    }\n",
       "\n",
       "    .dataframe thead th {\n",
       "        text-align: right;\n",
       "    }\n",
       "</style>\n",
       "<table border=\"1\" class=\"dataframe\">\n",
       "  <thead>\n",
       "    <tr style=\"text-align: right;\">\n",
       "      <th></th>\n",
       "      <th>age</th>\n",
       "      <th>job</th>\n",
       "      <th>marital</th>\n",
       "      <th>education</th>\n",
       "      <th>default</th>\n",
       "      <th>housing</th>\n",
       "      <th>loan</th>\n",
       "      <th>contact</th>\n",
       "      <th>month</th>\n",
       "      <th>day_of_week</th>\n",
       "      <th>duration</th>\n",
       "      <th>campaign</th>\n",
       "      <th>pdays</th>\n",
       "      <th>previous</th>\n",
       "      <th>poutcome</th>\n",
       "      <th>emp.var.rate</th>\n",
       "      <th>cons.price.idx</th>\n",
       "      <th>cons.conf.idx</th>\n",
       "      <th>euribor3m</th>\n",
       "      <th>nr.employed</th>\n",
       "      <th>y</th>\n",
       "    </tr>\n",
       "  </thead>\n",
       "  <tbody>\n",
       "    <tr>\n",
       "      <th>41183</th>\n",
       "      <td>73</td>\n",
       "      <td>retired</td>\n",
       "      <td>married</td>\n",
       "      <td>professional.course</td>\n",
       "      <td>no</td>\n",
       "      <td>yes</td>\n",
       "      <td>no</td>\n",
       "      <td>cellular</td>\n",
       "      <td>nov</td>\n",
       "      <td>fri</td>\n",
       "      <td>334</td>\n",
       "      <td>1</td>\n",
       "      <td>999</td>\n",
       "      <td>0</td>\n",
       "      <td>nonexistent</td>\n",
       "      <td>-1.1</td>\n",
       "      <td>94.767</td>\n",
       "      <td>-50.8</td>\n",
       "      <td>1.028</td>\n",
       "      <td>4963.6</td>\n",
       "      <td>yes</td>\n",
       "    </tr>\n",
       "    <tr>\n",
       "      <th>41184</th>\n",
       "      <td>46</td>\n",
       "      <td>blue-collar</td>\n",
       "      <td>married</td>\n",
       "      <td>professional.course</td>\n",
       "      <td>no</td>\n",
       "      <td>no</td>\n",
       "      <td>no</td>\n",
       "      <td>cellular</td>\n",
       "      <td>nov</td>\n",
       "      <td>fri</td>\n",
       "      <td>383</td>\n",
       "      <td>1</td>\n",
       "      <td>999</td>\n",
       "      <td>0</td>\n",
       "      <td>nonexistent</td>\n",
       "      <td>-1.1</td>\n",
       "      <td>94.767</td>\n",
       "      <td>-50.8</td>\n",
       "      <td>1.028</td>\n",
       "      <td>4963.6</td>\n",
       "      <td>no</td>\n",
       "    </tr>\n",
       "    <tr>\n",
       "      <th>41185</th>\n",
       "      <td>56</td>\n",
       "      <td>retired</td>\n",
       "      <td>married</td>\n",
       "      <td>university.degree</td>\n",
       "      <td>no</td>\n",
       "      <td>yes</td>\n",
       "      <td>no</td>\n",
       "      <td>cellular</td>\n",
       "      <td>nov</td>\n",
       "      <td>fri</td>\n",
       "      <td>189</td>\n",
       "      <td>2</td>\n",
       "      <td>999</td>\n",
       "      <td>0</td>\n",
       "      <td>nonexistent</td>\n",
       "      <td>-1.1</td>\n",
       "      <td>94.767</td>\n",
       "      <td>-50.8</td>\n",
       "      <td>1.028</td>\n",
       "      <td>4963.6</td>\n",
       "      <td>no</td>\n",
       "    </tr>\n",
       "    <tr>\n",
       "      <th>41186</th>\n",
       "      <td>44</td>\n",
       "      <td>technician</td>\n",
       "      <td>married</td>\n",
       "      <td>professional.course</td>\n",
       "      <td>no</td>\n",
       "      <td>no</td>\n",
       "      <td>no</td>\n",
       "      <td>cellular</td>\n",
       "      <td>nov</td>\n",
       "      <td>fri</td>\n",
       "      <td>442</td>\n",
       "      <td>1</td>\n",
       "      <td>999</td>\n",
       "      <td>0</td>\n",
       "      <td>nonexistent</td>\n",
       "      <td>-1.1</td>\n",
       "      <td>94.767</td>\n",
       "      <td>-50.8</td>\n",
       "      <td>1.028</td>\n",
       "      <td>4963.6</td>\n",
       "      <td>yes</td>\n",
       "    </tr>\n",
       "    <tr>\n",
       "      <th>41187</th>\n",
       "      <td>74</td>\n",
       "      <td>retired</td>\n",
       "      <td>married</td>\n",
       "      <td>professional.course</td>\n",
       "      <td>no</td>\n",
       "      <td>yes</td>\n",
       "      <td>no</td>\n",
       "      <td>cellular</td>\n",
       "      <td>nov</td>\n",
       "      <td>fri</td>\n",
       "      <td>239</td>\n",
       "      <td>3</td>\n",
       "      <td>999</td>\n",
       "      <td>1</td>\n",
       "      <td>failure</td>\n",
       "      <td>-1.1</td>\n",
       "      <td>94.767</td>\n",
       "      <td>-50.8</td>\n",
       "      <td>1.028</td>\n",
       "      <td>4963.6</td>\n",
       "      <td>no</td>\n",
       "    </tr>\n",
       "  </tbody>\n",
       "</table>\n",
       "</div>"
      ],
      "text/plain": [
       "       age          job  marital            education default housing loan  \\\n",
       "41183   73      retired  married  professional.course      no     yes   no   \n",
       "41184   46  blue-collar  married  professional.course      no      no   no   \n",
       "41185   56      retired  married    university.degree      no     yes   no   \n",
       "41186   44   technician  married  professional.course      no      no   no   \n",
       "41187   74      retired  married  professional.course      no     yes   no   \n",
       "\n",
       "        contact month day_of_week  duration  campaign  pdays  previous  \\\n",
       "41183  cellular   nov         fri       334         1    999         0   \n",
       "41184  cellular   nov         fri       383         1    999         0   \n",
       "41185  cellular   nov         fri       189         2    999         0   \n",
       "41186  cellular   nov         fri       442         1    999         0   \n",
       "41187  cellular   nov         fri       239         3    999         1   \n",
       "\n",
       "          poutcome  emp.var.rate  cons.price.idx  cons.conf.idx  euribor3m  \\\n",
       "41183  nonexistent          -1.1          94.767          -50.8      1.028   \n",
       "41184  nonexistent          -1.1          94.767          -50.8      1.028   \n",
       "41185  nonexistent          -1.1          94.767          -50.8      1.028   \n",
       "41186  nonexistent          -1.1          94.767          -50.8      1.028   \n",
       "41187      failure          -1.1          94.767          -50.8      1.028   \n",
       "\n",
       "       nr.employed    y  \n",
       "41183       4963.6  yes  \n",
       "41184       4963.6   no  \n",
       "41185       4963.6   no  \n",
       "41186       4963.6  yes  \n",
       "41187       4963.6   no  "
      ]
     },
     "execution_count": 6,
     "metadata": {},
     "output_type": "execute_result"
    }
   ],
   "source": [
    "df.tail()"
   ]
  },
  {
   "cell_type": "markdown",
   "metadata": {},
   "source": [
    "After looking at the features available in the dataset, I've decided that the best way to build the client's new customer avatar is to focus on the following categories.\n",
    "\n",
    "1. Demographics \n",
    "\n",
    "2. Behavior - \n",
    "\n",
    "3. Timing -  \n",
    "\n",
    "\n",
    "Demographic info is available in the columns age, job, marital status, and education features.\n",
    "Timing data is available in the cloumns month of last contact, day of last contact, duration of the call, number of times contacted, days since contacted in last campaign. Behavior data is available in the columns housing(does customer have a home loan), loan (personal loan), poutcome (previous campaign outcome).\n",
    "\n",
    "\n",
    "Given limited time, I chose to perform my hypothesis testing using the education, seasonality, and previous campaign outcome features. Education and previous campaign outcome are already provided, but I will have to create a column for seasonality to account for wearm and cold weather."
   ]
  },
  {
   "cell_type": "markdown",
   "metadata": {},
   "source": [
    "First, want to know if previous outcomes have an effect on current outcomes. I'm looking to see a percentage of yes and and no values grouped by previous outcomes."
   ]
  },
  {
   "cell_type": "markdown",
   "metadata": {},
   "source": [
    "# Previous Campaign Outcome Testing"
   ]
  },
  {
   "cell_type": "code",
   "execution_count": 7,
   "metadata": {
    "scrolled": true
   },
   "outputs": [
    {
     "data": {
      "text/html": [
       "<div>\n",
       "<style scoped>\n",
       "    .dataframe tbody tr th:only-of-type {\n",
       "        vertical-align: middle;\n",
       "    }\n",
       "\n",
       "    .dataframe tbody tr th {\n",
       "        vertical-align: top;\n",
       "    }\n",
       "\n",
       "    .dataframe thead th {\n",
       "        text-align: right;\n",
       "    }\n",
       "</style>\n",
       "<table border=\"1\" class=\"dataframe\">\n",
       "  <thead>\n",
       "    <tr style=\"text-align: right;\">\n",
       "      <th></th>\n",
       "      <th></th>\n",
       "      <th>age</th>\n",
       "      <th>job</th>\n",
       "      <th>marital</th>\n",
       "      <th>education</th>\n",
       "      <th>default</th>\n",
       "      <th>housing</th>\n",
       "      <th>loan</th>\n",
       "      <th>contact</th>\n",
       "      <th>month</th>\n",
       "      <th>day_of_week</th>\n",
       "      <th>duration</th>\n",
       "      <th>campaign</th>\n",
       "      <th>pdays</th>\n",
       "      <th>previous</th>\n",
       "      <th>emp.var.rate</th>\n",
       "      <th>cons.price.idx</th>\n",
       "      <th>cons.conf.idx</th>\n",
       "      <th>euribor3m</th>\n",
       "      <th>nr.employed</th>\n",
       "    </tr>\n",
       "    <tr>\n",
       "      <th>poutcome</th>\n",
       "      <th>y</th>\n",
       "      <th></th>\n",
       "      <th></th>\n",
       "      <th></th>\n",
       "      <th></th>\n",
       "      <th></th>\n",
       "      <th></th>\n",
       "      <th></th>\n",
       "      <th></th>\n",
       "      <th></th>\n",
       "      <th></th>\n",
       "      <th></th>\n",
       "      <th></th>\n",
       "      <th></th>\n",
       "      <th></th>\n",
       "      <th></th>\n",
       "      <th></th>\n",
       "      <th></th>\n",
       "      <th></th>\n",
       "      <th></th>\n",
       "    </tr>\n",
       "  </thead>\n",
       "  <tbody>\n",
       "    <tr>\n",
       "      <th rowspan=\"2\" valign=\"top\">failure</th>\n",
       "      <th>no</th>\n",
       "      <td>3647</td>\n",
       "      <td>3647</td>\n",
       "      <td>3647</td>\n",
       "      <td>3647</td>\n",
       "      <td>3647</td>\n",
       "      <td>3647</td>\n",
       "      <td>3647</td>\n",
       "      <td>3647</td>\n",
       "      <td>3647</td>\n",
       "      <td>3647</td>\n",
       "      <td>3647</td>\n",
       "      <td>3647</td>\n",
       "      <td>3647</td>\n",
       "      <td>3647</td>\n",
       "      <td>3647</td>\n",
       "      <td>3647</td>\n",
       "      <td>3647</td>\n",
       "      <td>3647</td>\n",
       "      <td>3647</td>\n",
       "    </tr>\n",
       "    <tr>\n",
       "      <th>yes</th>\n",
       "      <td>605</td>\n",
       "      <td>605</td>\n",
       "      <td>605</td>\n",
       "      <td>605</td>\n",
       "      <td>605</td>\n",
       "      <td>605</td>\n",
       "      <td>605</td>\n",
       "      <td>605</td>\n",
       "      <td>605</td>\n",
       "      <td>605</td>\n",
       "      <td>605</td>\n",
       "      <td>605</td>\n",
       "      <td>605</td>\n",
       "      <td>605</td>\n",
       "      <td>605</td>\n",
       "      <td>605</td>\n",
       "      <td>605</td>\n",
       "      <td>605</td>\n",
       "      <td>605</td>\n",
       "    </tr>\n",
       "    <tr>\n",
       "      <th rowspan=\"2\" valign=\"top\">nonexistent</th>\n",
       "      <th>no</th>\n",
       "      <td>32422</td>\n",
       "      <td>32422</td>\n",
       "      <td>32422</td>\n",
       "      <td>32422</td>\n",
       "      <td>32422</td>\n",
       "      <td>32422</td>\n",
       "      <td>32422</td>\n",
       "      <td>32422</td>\n",
       "      <td>32422</td>\n",
       "      <td>32422</td>\n",
       "      <td>32422</td>\n",
       "      <td>32422</td>\n",
       "      <td>32422</td>\n",
       "      <td>32422</td>\n",
       "      <td>32422</td>\n",
       "      <td>32422</td>\n",
       "      <td>32422</td>\n",
       "      <td>32422</td>\n",
       "      <td>32422</td>\n",
       "    </tr>\n",
       "    <tr>\n",
       "      <th>yes</th>\n",
       "      <td>3141</td>\n",
       "      <td>3141</td>\n",
       "      <td>3141</td>\n",
       "      <td>3141</td>\n",
       "      <td>3141</td>\n",
       "      <td>3141</td>\n",
       "      <td>3141</td>\n",
       "      <td>3141</td>\n",
       "      <td>3141</td>\n",
       "      <td>3141</td>\n",
       "      <td>3141</td>\n",
       "      <td>3141</td>\n",
       "      <td>3141</td>\n",
       "      <td>3141</td>\n",
       "      <td>3141</td>\n",
       "      <td>3141</td>\n",
       "      <td>3141</td>\n",
       "      <td>3141</td>\n",
       "      <td>3141</td>\n",
       "    </tr>\n",
       "    <tr>\n",
       "      <th rowspan=\"2\" valign=\"top\">success</th>\n",
       "      <th>no</th>\n",
       "      <td>479</td>\n",
       "      <td>479</td>\n",
       "      <td>479</td>\n",
       "      <td>479</td>\n",
       "      <td>479</td>\n",
       "      <td>479</td>\n",
       "      <td>479</td>\n",
       "      <td>479</td>\n",
       "      <td>479</td>\n",
       "      <td>479</td>\n",
       "      <td>479</td>\n",
       "      <td>479</td>\n",
       "      <td>479</td>\n",
       "      <td>479</td>\n",
       "      <td>479</td>\n",
       "      <td>479</td>\n",
       "      <td>479</td>\n",
       "      <td>479</td>\n",
       "      <td>479</td>\n",
       "    </tr>\n",
       "    <tr>\n",
       "      <th>yes</th>\n",
       "      <td>894</td>\n",
       "      <td>894</td>\n",
       "      <td>894</td>\n",
       "      <td>894</td>\n",
       "      <td>894</td>\n",
       "      <td>894</td>\n",
       "      <td>894</td>\n",
       "      <td>894</td>\n",
       "      <td>894</td>\n",
       "      <td>894</td>\n",
       "      <td>894</td>\n",
       "      <td>894</td>\n",
       "      <td>894</td>\n",
       "      <td>894</td>\n",
       "      <td>894</td>\n",
       "      <td>894</td>\n",
       "      <td>894</td>\n",
       "      <td>894</td>\n",
       "      <td>894</td>\n",
       "    </tr>\n",
       "  </tbody>\n",
       "</table>\n",
       "</div>"
      ],
      "text/plain": [
       "                   age    job  marital  education  default  housing   loan  \\\n",
       "poutcome    y                                                                \n",
       "failure     no    3647   3647     3647       3647     3647     3647   3647   \n",
       "            yes    605    605      605        605      605      605    605   \n",
       "nonexistent no   32422  32422    32422      32422    32422    32422  32422   \n",
       "            yes   3141   3141     3141       3141     3141     3141   3141   \n",
       "success     no     479    479      479        479      479      479    479   \n",
       "            yes    894    894      894        894      894      894    894   \n",
       "\n",
       "                 contact  month  day_of_week  duration  campaign  pdays  \\\n",
       "poutcome    y                                                             \n",
       "failure     no      3647   3647         3647      3647      3647   3647   \n",
       "            yes      605    605          605       605       605    605   \n",
       "nonexistent no     32422  32422        32422     32422     32422  32422   \n",
       "            yes     3141   3141         3141      3141      3141   3141   \n",
       "success     no       479    479          479       479       479    479   \n",
       "            yes      894    894          894       894       894    894   \n",
       "\n",
       "                 previous  emp.var.rate  cons.price.idx  cons.conf.idx  \\\n",
       "poutcome    y                                                            \n",
       "failure     no       3647          3647            3647           3647   \n",
       "            yes       605           605             605            605   \n",
       "nonexistent no      32422         32422           32422          32422   \n",
       "            yes      3141          3141            3141           3141   \n",
       "success     no        479           479             479            479   \n",
       "            yes       894           894             894            894   \n",
       "\n",
       "                 euribor3m  nr.employed  \n",
       "poutcome    y                            \n",
       "failure     no        3647         3647  \n",
       "            yes        605          605  \n",
       "nonexistent no       32422        32422  \n",
       "            yes       3141         3141  \n",
       "success     no         479          479  \n",
       "            yes        894          894  "
      ]
     },
     "execution_count": 7,
     "metadata": {},
     "output_type": "execute_result"
    }
   ],
   "source": [
    "df.groupby(['poutcome', 'y']).count()"
   ]
  },
  {
   "cell_type": "code",
   "execution_count": 99,
   "metadata": {},
   "outputs": [
    {
     "data": {
      "image/png": "[encoded data removed]",
      "text/plain": [
       "<Figure size 1440x576 with 1 Axes>"
      ]
     },
     "metadata": {
      "needs_background": "light"
     },
     "output_type": "display_data"
    }
   ],
   "source": [
    "#OUT COME COUNT BASED ON EDUCATION\n",
    "fig, ax = plt.subplots()\n",
    "fig.set_size_inches(20, 8)\n",
    "sns.countplot(x = 'poutcome', hue='y', data = df, palette='Set1')\n",
    "ax.set_xticklabels(df['poutcome'].unique())\n",
    "ax.set_xlabel('Previous Campaign Outcome', fontsize=15)\n",
    "ax.set_ylabel('COUNT', fontsize=15)\n",
    "ax.set_title('Previous Outcome Distribution', fontsize=20)\n",
    "ax.tick_params(labelsize=15)\n",
    "sns.despine()"
   ]
  },
  {
   "cell_type": "markdown",
   "metadata": {},
   "source": [
    "This output gives a count of the number of people in each category. Even though it's not the output that I wanted, it still gives me an idea opf what I'm looking at. Would still love to see these in percentages. Since I'm looking to see the effect that the previous campaign outcome had on the outcome of most recent campaign, I can use the values in each category to visualize what that effect looks like."
   ]
  },
  {
   "cell_type": "code",
   "execution_count": 100,
   "metadata": {},
   "outputs": [
    {
     "name": "stdout",
     "output_type": "stream",
     "text": [
      "nonexistent    35563\n",
      "failure         4252\n",
      "success         1373\n",
      "Name: poutcome, dtype: int64\n",
      "poutcome     y  \n",
      "failure      no      3647\n",
      "             yes      605\n",
      "nonexistent  no     32422\n",
      "             yes     3141\n",
      "success      no       479\n",
      "             yes      894\n",
      "dtype: int64\n"
     ]
    }
   ],
   "source": [
    "x = df.poutcome.value_counts()\n",
    "j = df.groupby(['poutcome', 'y']).size()\n",
    "print(x)\n",
    "print(j)"
   ]
  },
  {
   "cell_type": "code",
   "execution_count": 101,
   "metadata": {
    "scrolled": true
   },
   "outputs": [
    {
     "data": {
      "text/plain": [
       "<matplotlib.legend.Legend at 0x1a1f466eb8>"
      ]
     },
     "execution_count": 101,
     "metadata": {},
     "output_type": "execute_result"
    },
    {
     "data": {
      "image/png": "[encoded data removed]",
      "text/plain": [
       "<Figure size 432x288 with 1 Axes>"
      ]
     },
     "metadata": {
      "needs_background": "light"
     },
     "output_type": "display_data"
    }
   ],
   "source": [
    "prev_outcome = ['failure', 'success', 'nonexistent']\n",
    "yes = [605/4252, 894/1373, 3141/35563]\n",
    "no = [3647/4252, 479/1373, 32422/35563]\n",
    "\n",
    "plt.xlabel('Previous Campaign Outcome')\n",
    "plt.ylabel('Percentage of Current Campaign Outcome')\n",
    "plt.bar(prev_outcome, yes, alpha = .75, label ='Yes')\n",
    "plt.bar(prev_outcome, no, alpha = .2, label = 'No')\n",
    "plt.legend()"
   ]
  },
  {
   "cell_type": "markdown",
   "metadata": {},
   "source": [
    "Wow, that was unexpected. People who were marketed to successfully during the previous campaign seemed to have said yes to the most recent campaign much more often than everyone else. Lets dig deeper into that with some hypothesis testing."
   ]
  },
  {
   "cell_type": "markdown",
   "metadata": {},
   "source": [
    "$H_0: P_1 = P_2$\n",
    "\n",
    "$H_A: P_1  ≠ P_2$\n",
    "\n",
    "**Null hypothesis** the proportion of customers that had a successful previous campaign and said yes to this campaign is equal to the proportion of customers who did not have a successfull campaign and said yes to this campaign. \n",
    "\n",
    "**Alternate Hypothesis:** The proportions are not equal.\n",
    "\n",
    "Let's test it with a two proportion z test!\n"
   ]
  },
  {
   "cell_type": "code",
   "execution_count": 27,
   "metadata": {},
   "outputs": [
    {
     "name": "stdout",
     "output_type": "stream",
     "text": [
      " z-stat = 64.18632406956367 \n",
      " p-value = 0.0\n"
     ]
    }
   ],
   "source": [
    "success_total = df.loc[df['poutcome']=='success'] #total number of customers with successful outcomes from the previous campaign\n",
    "failure_total = df.loc[df['poutcome']=='failure'] #total number of customers with failed outcomes in the previous campaign\n",
    "non_total = df.loc[df['poutcome']=='nonexistent'] # total number of customers with non existen outcomes in the previous campaign\n",
    "success_y = success_total.loc[success_total['y']=='yes']# number of sign ups in this campaign from people that had a successful outcome in the last campaign\n",
    "failure_y = failure_total.loc[failure_total['y'] == 'yes'] #number of sign ups in this campaign from people that had a failed outcome in the last campaign\n",
    "nonex_y = non_total.loc[non_total['y'] == 'yes'] #number of sign ups in this campaign from people that had a non existen outcome in the last campaign\n",
    "non_success = len(failure_y) + len(nonex_y)\n",
    "non_success_total = len(failure_total) + len(non_total)\n",
    "\n",
    "# count = np.array([len(success_y), (len(failure_y) + len(non_y))])\n",
    "count = np.array([len(success_y), non_success])\n",
    "nobs = np.array([len(success_total), non_success_total])\n",
    "z,p = proportions_ztest(count, nobs, value=0, alternative='two-sided')\n",
    "print(' z-stat = {z} \\n p-value = {p}'.format(z=z,p=p))"
   ]
  },
  {
   "cell_type": "markdown",
   "metadata": {},
   "source": [
    "That p-value is really small which causes me to be suspicious."
   ]
  },
  {
   "cell_type": "code",
   "execution_count": 11,
   "metadata": {
    "scrolled": true
   },
   "outputs": [
    {
     "data": {
      "text/plain": [
       "0.9666650480722541"
      ]
     },
     "execution_count": 11,
     "metadata": {},
     "output_type": "execute_result"
    }
   ],
   "source": [
    "non_success_total/len(df)"
   ]
  },
  {
   "cell_type": "markdown",
   "metadata": {},
   "source": [
    "So 96% of the data was caterized as being non successfull on the previous campaign. Perhaps I should rethink my test. The non-existent category is very mysterious. We dont know if these are new customers, if they just didn't have the data for them, or if there was some other kind of circumstance here. "
   ]
  },
  {
   "cell_type": "code",
   "execution_count": 12,
   "metadata": {},
   "outputs": [
    {
     "name": "stdout",
     "output_type": "stream",
     "text": [
      "Poutcome Non Existent Percentage of Data: 0.8634310964358551\n",
      "Poutcome Failure Percentage of Data: 0.10323395163639895\n",
      "Poutcome Success Percentage of Data: 0.033334951927745944\n"
     ]
    }
   ],
   "source": [
    "#let's see how much of the data is categorized as non existent, failure and success.\n",
    "print('Poutcome Non Existent Percentage of Data: {}'.format(len(non_total)/len(df))) \n",
    "print('Poutcome Failure Percentage of Data: {}'.format(len(failure_total)/len(df)))\n",
    "print('Poutcome Success Percentage of Data: {}'.format(len(success_total)/len(df)))"
   ]
  },
  {
   "cell_type": "markdown",
   "metadata": {},
   "source": [
    "As I suspected a large part of the data is categorized as being nonexistent in the poutcome feature. This is definitely affected our results. Instead, I'll adjust my hypothesis and perform a new test. \n",
    "\n",
    "Previously my P1 value represented previous campaign success and my P2 value was previous campaign non_successes, including failure and non_existent outcomes. This time I will adjust my P2 value to represent failed outcomes only. Looking back, this approach makes sense so we can make a better comparison."
   ]
  },
  {
   "cell_type": "code",
   "execution_count": 28,
   "metadata": {},
   "outputs": [
    {
     "name": "stdout",
     "output_type": "stream",
     "text": [
      " z-stat = 37.07758830060586 \n",
      " p-value = 6.454681991329467e-301\n"
     ]
    }
   ],
   "source": [
    "count = np.array([len(success_y), len(failure_y)])\n",
    "nobs = np.array([len(success_total), len(failure_total)])\n",
    "z,p = proportions_ztest(count, nobs, value=0, alternative='two-sided')\n",
    "print(' z-stat = {z} \\n p-value = {p}'.format(z=z,p=p))"
   ]
  },
  {
   "cell_type": "markdown",
   "metadata": {},
   "source": [
    "We still have a really small p value, but at least this time it isn't zero, which makes me feel better about the results. \n",
    "\n",
    "With the results of, we can effectively reject the null hypothesis. The difference between custoemrs that said yes to a previous campaign and this campaign compared to customers who said no to a previous campaign and said yes to this campaign is statistically significant. Our working assumption is that that the difference between a customer's receptiveness to the previous campaign is greater than those who have failed and even more so than those who had non existent previous campaign outcomes. Let's look at how meaningful that is in the context of the data provided by performing a measurement  of effect size.\n",
    "\n",
    "\n",
    "\n",
    "\n"
   ]
  },
  {
   "cell_type": "code",
   "execution_count": 23,
   "metadata": {},
   "outputs": [
    {
     "data": {
      "text/plain": [
       "0.1422859830667921"
      ]
     },
     "execution_count": 23,
     "metadata": {},
     "output_type": "execute_result"
    }
   ],
   "source": [
    "p2"
   ]
  },
  {
   "cell_type": "code",
   "execution_count": 25,
   "metadata": {
    "scrolled": true
   },
   "outputs": [
    {
     "data": {
      "text/plain": [
       "1.104296927342266"
      ]
     },
     "execution_count": 25,
     "metadata": {},
     "output_type": "execute_result"
    }
   ],
   "source": [
    "p1 = len(success_y)/len(success_total)# proportion of successes from previous campaign that signed up\n",
    "p2 = len(failure_y)/len(failure_total)# proportion of failures from previous campaign that signed up\n",
    "theta1 = 2 * (np.arcsin(np.sqrt(p1)))\n",
    "theta2 = 2 * (np.arcsin(np.sqrt(p2)))\n",
    "cohensh = theta1 - theta2\n",
    "cohensh"
   ]
  },
  {
   "cell_type": "markdown",
   "metadata": {},
   "source": [
    "That effect size is pretty big. With such a large effect size, we can conclude that the effect of a lead being a customer from previous campaign made a big difference in their likelihood of them saying yes to the current campaign offer.\n",
    "\n",
    "Just to be thorough in jour test, lets look at the risk of us being wrong with a power analysis."
   ]
  },
  {
   "cell_type": "code",
   "execution_count": 61,
   "metadata": {},
   "outputs": [
    {
     "data": {
      "text/plain": [
       "1.0"
      ]
     },
     "execution_count": 61,
     "metadata": {},
     "output_type": "execute_result"
    }
   ],
   "source": [
    "\n",
    "statsmodels.stats.power.zt_ind_solve_power(effect_size = cohensh, nobs1 = len(success_y), alpha = .05, power = None, ratio = len(failure_y)/len(success_y))\n",
    "\n",
    "\n"
   ]
  },
  {
   "cell_type": "code",
   "execution_count": 60,
   "metadata": {},
   "outputs": [
    {
     "data": {
      "image/png": "[encoded data removed]",
      "text/plain": [
       "<Figure size 432x288 with 2 Axes>"
      ]
     },
     "metadata": {
      "needs_background": "light"
     },
     "output_type": "display_data"
    }
   ],
   "source": [
    "fig = plt.figure()\n",
    "ax = fig.add_subplot(2, 1, 1)\n",
    "fig = TTestIndPower().plot_power(dep_var='nobs',\n",
    "                                 nobs=np.arange(2, 200),\n",
    "                                 effect_size=np.array([0.2, 0.5, 0.8, 1.1]),\n",
    "                                 alpha=0.01,\n",
    "                                 ax=ax, title='Power of T-Proportion Test' + '\\n' + r'$\\alpha = 0.01$')\n",
    "plt.subplots_adjust(bottom=0.2, right=0.8, top=2.0)\n",
    "ax.get_legend().remove()\n",
    "ax = fig.add_subplot(2, 1, 2)\n",
    "fig = TTestIndPower().plot_power(dep_var='nobs',\n",
    "                                 nobs=np.arange(2, 200),\n",
    "                                 effect_size=np.array([0.2, 0.5, 0.8, 1.1]),\n",
    "                                 alpha=0.05,\n",
    "                                 ax=ax, title=r'$\\alpha = 0.05$')"
   ]
  },
  {
   "cell_type": "markdown",
   "metadata": {},
   "source": [
    "According to our analysis, since we have such a large number of observations and a large effect size, there is very little risk of us being wrong in rejecting the Null hypothesis that the two proportions are equal. The difference between these two proportions is rather large and easy to detect."
   ]
  },
  {
   "cell_type": "markdown",
   "metadata": {},
   "source": [
    "**Conclusion**\n",
    "\n",
    "The intuition that customers who have purchased in the past are more likely to purchase in the future is nothing ground-breaking. However, using an effect size measurement, we can quantify this phenomenon and compare it to others. This way, the client may be able to rethink their sales strategy to a more long term approach. Perhaps it will be worth it to them to offer additional discounts and incentives to first time purchasers. Again, nothing ground-breaking here but with further testing, we can drill down exactly who those perfect customers are and what type of incentives will move the needle most with them. We can find customers that took less touches to sign up, what their demographics are and what other behaviors they participate in to create a really targetted consumer avatar. We could then build out several of those personas knowing in advance how much each is worth and help the client prioritize their resources to reach out to those indiviuduals accoordingly. Down the road, we can use more advanced modeling techniches to advise our client when to reach out to customers at times that we know they are ready and willing to sign up. \n",
    "\n",
    "However, those are questions, tests, and models for another day. For now, let's stick with the original road map and move on to testing based on education. What effect does education have on signups? Are more educated leads more likely to purchase the client's product as a result of this most recent marketing campaign? Let's do some testing to find out."
   ]
  },
  {
   "cell_type": "markdown",
   "metadata": {},
   "source": [
    "# Education Demographic Testing"
   ]
  },
  {
   "cell_type": "code",
   "execution_count": 14,
   "metadata": {
    "scrolled": true
   },
   "outputs": [
    {
     "data": {
      "text/html": [
       "<div>\n",
       "<style scoped>\n",
       "    .dataframe tbody tr th:only-of-type {\n",
       "        vertical-align: middle;\n",
       "    }\n",
       "\n",
       "    .dataframe tbody tr th {\n",
       "        vertical-align: top;\n",
       "    }\n",
       "\n",
       "    .dataframe thead th {\n",
       "        text-align: right;\n",
       "    }\n",
       "</style>\n",
       "<table border=\"1\" class=\"dataframe\">\n",
       "  <thead>\n",
       "    <tr style=\"text-align: right;\">\n",
       "      <th></th>\n",
       "      <th></th>\n",
       "      <th>age</th>\n",
       "      <th>job</th>\n",
       "      <th>marital</th>\n",
       "      <th>default</th>\n",
       "      <th>housing</th>\n",
       "      <th>loan</th>\n",
       "      <th>contact</th>\n",
       "      <th>month</th>\n",
       "      <th>day_of_week</th>\n",
       "      <th>duration</th>\n",
       "      <th>campaign</th>\n",
       "      <th>pdays</th>\n",
       "      <th>previous</th>\n",
       "      <th>poutcome</th>\n",
       "      <th>emp.var.rate</th>\n",
       "      <th>cons.price.idx</th>\n",
       "      <th>cons.conf.idx</th>\n",
       "      <th>euribor3m</th>\n",
       "      <th>nr.employed</th>\n",
       "    </tr>\n",
       "    <tr>\n",
       "      <th>education</th>\n",
       "      <th>y</th>\n",
       "      <th></th>\n",
       "      <th></th>\n",
       "      <th></th>\n",
       "      <th></th>\n",
       "      <th></th>\n",
       "      <th></th>\n",
       "      <th></th>\n",
       "      <th></th>\n",
       "      <th></th>\n",
       "      <th></th>\n",
       "      <th></th>\n",
       "      <th></th>\n",
       "      <th></th>\n",
       "      <th></th>\n",
       "      <th></th>\n",
       "      <th></th>\n",
       "      <th></th>\n",
       "      <th></th>\n",
       "      <th></th>\n",
       "    </tr>\n",
       "  </thead>\n",
       "  <tbody>\n",
       "    <tr>\n",
       "      <th rowspan=\"2\" valign=\"top\">basic.4y</th>\n",
       "      <th>no</th>\n",
       "      <td>3748</td>\n",
       "      <td>3748</td>\n",
       "      <td>3748</td>\n",
       "      <td>3748</td>\n",
       "      <td>3748</td>\n",
       "      <td>3748</td>\n",
       "      <td>3748</td>\n",
       "      <td>3748</td>\n",
       "      <td>3748</td>\n",
       "      <td>3748</td>\n",
       "      <td>3748</td>\n",
       "      <td>3748</td>\n",
       "      <td>3748</td>\n",
       "      <td>3748</td>\n",
       "      <td>3748</td>\n",
       "      <td>3748</td>\n",
       "      <td>3748</td>\n",
       "      <td>3748</td>\n",
       "      <td>3748</td>\n",
       "    </tr>\n",
       "    <tr>\n",
       "      <th>yes</th>\n",
       "      <td>428</td>\n",
       "      <td>428</td>\n",
       "      <td>428</td>\n",
       "      <td>428</td>\n",
       "      <td>428</td>\n",
       "      <td>428</td>\n",
       "      <td>428</td>\n",
       "      <td>428</td>\n",
       "      <td>428</td>\n",
       "      <td>428</td>\n",
       "      <td>428</td>\n",
       "      <td>428</td>\n",
       "      <td>428</td>\n",
       "      <td>428</td>\n",
       "      <td>428</td>\n",
       "      <td>428</td>\n",
       "      <td>428</td>\n",
       "      <td>428</td>\n",
       "      <td>428</td>\n",
       "    </tr>\n",
       "    <tr>\n",
       "      <th rowspan=\"2\" valign=\"top\">basic.6y</th>\n",
       "      <th>no</th>\n",
       "      <td>2104</td>\n",
       "      <td>2104</td>\n",
       "      <td>2104</td>\n",
       "      <td>2104</td>\n",
       "      <td>2104</td>\n",
       "      <td>2104</td>\n",
       "      <td>2104</td>\n",
       "      <td>2104</td>\n",
       "      <td>2104</td>\n",
       "      <td>2104</td>\n",
       "      <td>2104</td>\n",
       "      <td>2104</td>\n",
       "      <td>2104</td>\n",
       "      <td>2104</td>\n",
       "      <td>2104</td>\n",
       "      <td>2104</td>\n",
       "      <td>2104</td>\n",
       "      <td>2104</td>\n",
       "      <td>2104</td>\n",
       "    </tr>\n",
       "    <tr>\n",
       "      <th>yes</th>\n",
       "      <td>188</td>\n",
       "      <td>188</td>\n",
       "      <td>188</td>\n",
       "      <td>188</td>\n",
       "      <td>188</td>\n",
       "      <td>188</td>\n",
       "      <td>188</td>\n",
       "      <td>188</td>\n",
       "      <td>188</td>\n",
       "      <td>188</td>\n",
       "      <td>188</td>\n",
       "      <td>188</td>\n",
       "      <td>188</td>\n",
       "      <td>188</td>\n",
       "      <td>188</td>\n",
       "      <td>188</td>\n",
       "      <td>188</td>\n",
       "      <td>188</td>\n",
       "      <td>188</td>\n",
       "    </tr>\n",
       "    <tr>\n",
       "      <th rowspan=\"2\" valign=\"top\">basic.9y</th>\n",
       "      <th>no</th>\n",
       "      <td>5572</td>\n",
       "      <td>5572</td>\n",
       "      <td>5572</td>\n",
       "      <td>5572</td>\n",
       "      <td>5572</td>\n",
       "      <td>5572</td>\n",
       "      <td>5572</td>\n",
       "      <td>5572</td>\n",
       "      <td>5572</td>\n",
       "      <td>5572</td>\n",
       "      <td>5572</td>\n",
       "      <td>5572</td>\n",
       "      <td>5572</td>\n",
       "      <td>5572</td>\n",
       "      <td>5572</td>\n",
       "      <td>5572</td>\n",
       "      <td>5572</td>\n",
       "      <td>5572</td>\n",
       "      <td>5572</td>\n",
       "    </tr>\n",
       "    <tr>\n",
       "      <th>yes</th>\n",
       "      <td>473</td>\n",
       "      <td>473</td>\n",
       "      <td>473</td>\n",
       "      <td>473</td>\n",
       "      <td>473</td>\n",
       "      <td>473</td>\n",
       "      <td>473</td>\n",
       "      <td>473</td>\n",
       "      <td>473</td>\n",
       "      <td>473</td>\n",
       "      <td>473</td>\n",
       "      <td>473</td>\n",
       "      <td>473</td>\n",
       "      <td>473</td>\n",
       "      <td>473</td>\n",
       "      <td>473</td>\n",
       "      <td>473</td>\n",
       "      <td>473</td>\n",
       "      <td>473</td>\n",
       "    </tr>\n",
       "    <tr>\n",
       "      <th rowspan=\"2\" valign=\"top\">high.school</th>\n",
       "      <th>no</th>\n",
       "      <td>8484</td>\n",
       "      <td>8484</td>\n",
       "      <td>8484</td>\n",
       "      <td>8484</td>\n",
       "      <td>8484</td>\n",
       "      <td>8484</td>\n",
       "      <td>8484</td>\n",
       "      <td>8484</td>\n",
       "      <td>8484</td>\n",
       "      <td>8484</td>\n",
       "      <td>8484</td>\n",
       "      <td>8484</td>\n",
       "      <td>8484</td>\n",
       "      <td>8484</td>\n",
       "      <td>8484</td>\n",
       "      <td>8484</td>\n",
       "      <td>8484</td>\n",
       "      <td>8484</td>\n",
       "      <td>8484</td>\n",
       "    </tr>\n",
       "    <tr>\n",
       "      <th>yes</th>\n",
       "      <td>1031</td>\n",
       "      <td>1031</td>\n",
       "      <td>1031</td>\n",
       "      <td>1031</td>\n",
       "      <td>1031</td>\n",
       "      <td>1031</td>\n",
       "      <td>1031</td>\n",
       "      <td>1031</td>\n",
       "      <td>1031</td>\n",
       "      <td>1031</td>\n",
       "      <td>1031</td>\n",
       "      <td>1031</td>\n",
       "      <td>1031</td>\n",
       "      <td>1031</td>\n",
       "      <td>1031</td>\n",
       "      <td>1031</td>\n",
       "      <td>1031</td>\n",
       "      <td>1031</td>\n",
       "      <td>1031</td>\n",
       "    </tr>\n",
       "    <tr>\n",
       "      <th rowspan=\"2\" valign=\"top\">illiterate</th>\n",
       "      <th>no</th>\n",
       "      <td>14</td>\n",
       "      <td>14</td>\n",
       "      <td>14</td>\n",
       "      <td>14</td>\n",
       "      <td>14</td>\n",
       "      <td>14</td>\n",
       "      <td>14</td>\n",
       "      <td>14</td>\n",
       "      <td>14</td>\n",
       "      <td>14</td>\n",
       "      <td>14</td>\n",
       "      <td>14</td>\n",
       "      <td>14</td>\n",
       "      <td>14</td>\n",
       "      <td>14</td>\n",
       "      <td>14</td>\n",
       "      <td>14</td>\n",
       "      <td>14</td>\n",
       "      <td>14</td>\n",
       "    </tr>\n",
       "    <tr>\n",
       "      <th>yes</th>\n",
       "      <td>4</td>\n",
       "      <td>4</td>\n",
       "      <td>4</td>\n",
       "      <td>4</td>\n",
       "      <td>4</td>\n",
       "      <td>4</td>\n",
       "      <td>4</td>\n",
       "      <td>4</td>\n",
       "      <td>4</td>\n",
       "      <td>4</td>\n",
       "      <td>4</td>\n",
       "      <td>4</td>\n",
       "      <td>4</td>\n",
       "      <td>4</td>\n",
       "      <td>4</td>\n",
       "      <td>4</td>\n",
       "      <td>4</td>\n",
       "      <td>4</td>\n",
       "      <td>4</td>\n",
       "    </tr>\n",
       "    <tr>\n",
       "      <th rowspan=\"2\" valign=\"top\">professional.course</th>\n",
       "      <th>no</th>\n",
       "      <td>4648</td>\n",
       "      <td>4648</td>\n",
       "      <td>4648</td>\n",
       "      <td>4648</td>\n",
       "      <td>4648</td>\n",
       "      <td>4648</td>\n",
       "      <td>4648</td>\n",
       "      <td>4648</td>\n",
       "      <td>4648</td>\n",
       "      <td>4648</td>\n",
       "      <td>4648</td>\n",
       "      <td>4648</td>\n",
       "      <td>4648</td>\n",
       "      <td>4648</td>\n",
       "      <td>4648</td>\n",
       "      <td>4648</td>\n",
       "      <td>4648</td>\n",
       "      <td>4648</td>\n",
       "      <td>4648</td>\n",
       "    </tr>\n",
       "    <tr>\n",
       "      <th>yes</th>\n",
       "      <td>595</td>\n",
       "      <td>595</td>\n",
       "      <td>595</td>\n",
       "      <td>595</td>\n",
       "      <td>595</td>\n",
       "      <td>595</td>\n",
       "      <td>595</td>\n",
       "      <td>595</td>\n",
       "      <td>595</td>\n",
       "      <td>595</td>\n",
       "      <td>595</td>\n",
       "      <td>595</td>\n",
       "      <td>595</td>\n",
       "      <td>595</td>\n",
       "      <td>595</td>\n",
       "      <td>595</td>\n",
       "      <td>595</td>\n",
       "      <td>595</td>\n",
       "      <td>595</td>\n",
       "    </tr>\n",
       "    <tr>\n",
       "      <th rowspan=\"2\" valign=\"top\">university.degree</th>\n",
       "      <th>no</th>\n",
       "      <td>10498</td>\n",
       "      <td>10498</td>\n",
       "      <td>10498</td>\n",
       "      <td>10498</td>\n",
       "      <td>10498</td>\n",
       "      <td>10498</td>\n",
       "      <td>10498</td>\n",
       "      <td>10498</td>\n",
       "      <td>10498</td>\n",
       "      <td>10498</td>\n",
       "      <td>10498</td>\n",
       "      <td>10498</td>\n",
       "      <td>10498</td>\n",
       "      <td>10498</td>\n",
       "      <td>10498</td>\n",
       "      <td>10498</td>\n",
       "      <td>10498</td>\n",
       "      <td>10498</td>\n",
       "      <td>10498</td>\n",
       "    </tr>\n",
       "    <tr>\n",
       "      <th>yes</th>\n",
       "      <td>1670</td>\n",
       "      <td>1670</td>\n",
       "      <td>1670</td>\n",
       "      <td>1670</td>\n",
       "      <td>1670</td>\n",
       "      <td>1670</td>\n",
       "      <td>1670</td>\n",
       "      <td>1670</td>\n",
       "      <td>1670</td>\n",
       "      <td>1670</td>\n",
       "      <td>1670</td>\n",
       "      <td>1670</td>\n",
       "      <td>1670</td>\n",
       "      <td>1670</td>\n",
       "      <td>1670</td>\n",
       "      <td>1670</td>\n",
       "      <td>1670</td>\n",
       "      <td>1670</td>\n",
       "      <td>1670</td>\n",
       "    </tr>\n",
       "    <tr>\n",
       "      <th rowspan=\"2\" valign=\"top\">unknown</th>\n",
       "      <th>no</th>\n",
       "      <td>1480</td>\n",
       "      <td>1480</td>\n",
       "      <td>1480</td>\n",
       "      <td>1480</td>\n",
       "      <td>1480</td>\n",
       "      <td>1480</td>\n",
       "      <td>1480</td>\n",
       "      <td>1480</td>\n",
       "      <td>1480</td>\n",
       "      <td>1480</td>\n",
       "      <td>1480</td>\n",
       "      <td>1480</td>\n",
       "      <td>1480</td>\n",
       "      <td>1480</td>\n",
       "      <td>1480</td>\n",
       "      <td>1480</td>\n",
       "      <td>1480</td>\n",
       "      <td>1480</td>\n",
       "      <td>1480</td>\n",
       "    </tr>\n",
       "    <tr>\n",
       "      <th>yes</th>\n",
       "      <td>251</td>\n",
       "      <td>251</td>\n",
       "      <td>251</td>\n",
       "      <td>251</td>\n",
       "      <td>251</td>\n",
       "      <td>251</td>\n",
       "      <td>251</td>\n",
       "      <td>251</td>\n",
       "      <td>251</td>\n",
       "      <td>251</td>\n",
       "      <td>251</td>\n",
       "      <td>251</td>\n",
       "      <td>251</td>\n",
       "      <td>251</td>\n",
       "      <td>251</td>\n",
       "      <td>251</td>\n",
       "      <td>251</td>\n",
       "      <td>251</td>\n",
       "      <td>251</td>\n",
       "    </tr>\n",
       "  </tbody>\n",
       "</table>\n",
       "</div>"
      ],
      "text/plain": [
       "                           age    job  marital  default  housing   loan  \\\n",
       "education           y                                                     \n",
       "basic.4y            no    3748   3748     3748     3748     3748   3748   \n",
       "                    yes    428    428      428      428      428    428   \n",
       "basic.6y            no    2104   2104     2104     2104     2104   2104   \n",
       "                    yes    188    188      188      188      188    188   \n",
       "basic.9y            no    5572   5572     5572     5572     5572   5572   \n",
       "                    yes    473    473      473      473      473    473   \n",
       "high.school         no    8484   8484     8484     8484     8484   8484   \n",
       "                    yes   1031   1031     1031     1031     1031   1031   \n",
       "illiterate          no      14     14       14       14       14     14   \n",
       "                    yes      4      4        4        4        4      4   \n",
       "professional.course no    4648   4648     4648     4648     4648   4648   \n",
       "                    yes    595    595      595      595      595    595   \n",
       "university.degree   no   10498  10498    10498    10498    10498  10498   \n",
       "                    yes   1670   1670     1670     1670     1670   1670   \n",
       "unknown             no    1480   1480     1480     1480     1480   1480   \n",
       "                    yes    251    251      251      251      251    251   \n",
       "\n",
       "                         contact  month  day_of_week  duration  campaign  \\\n",
       "education           y                                                      \n",
       "basic.4y            no      3748   3748         3748      3748      3748   \n",
       "                    yes      428    428          428       428       428   \n",
       "basic.6y            no      2104   2104         2104      2104      2104   \n",
       "                    yes      188    188          188       188       188   \n",
       "basic.9y            no      5572   5572         5572      5572      5572   \n",
       "                    yes      473    473          473       473       473   \n",
       "high.school         no      8484   8484         8484      8484      8484   \n",
       "                    yes     1031   1031         1031      1031      1031   \n",
       "illiterate          no        14     14           14        14        14   \n",
       "                    yes        4      4            4         4         4   \n",
       "professional.course no      4648   4648         4648      4648      4648   \n",
       "                    yes      595    595          595       595       595   \n",
       "university.degree   no     10498  10498        10498     10498     10498   \n",
       "                    yes     1670   1670         1670      1670      1670   \n",
       "unknown             no      1480   1480         1480      1480      1480   \n",
       "                    yes      251    251          251       251       251   \n",
       "\n",
       "                         pdays  previous  poutcome  emp.var.rate  \\\n",
       "education           y                                              \n",
       "basic.4y            no    3748      3748      3748          3748   \n",
       "                    yes    428       428       428           428   \n",
       "basic.6y            no    2104      2104      2104          2104   \n",
       "                    yes    188       188       188           188   \n",
       "basic.9y            no    5572      5572      5572          5572   \n",
       "                    yes    473       473       473           473   \n",
       "high.school         no    8484      8484      8484          8484   \n",
       "                    yes   1031      1031      1031          1031   \n",
       "illiterate          no      14        14        14            14   \n",
       "                    yes      4         4         4             4   \n",
       "professional.course no    4648      4648      4648          4648   \n",
       "                    yes    595       595       595           595   \n",
       "university.degree   no   10498     10498     10498         10498   \n",
       "                    yes   1670      1670      1670          1670   \n",
       "unknown             no    1480      1480      1480          1480   \n",
       "                    yes    251       251       251           251   \n",
       "\n",
       "                         cons.price.idx  cons.conf.idx  euribor3m  nr.employed  \n",
       "education           y                                                           \n",
       "basic.4y            no             3748           3748       3748         3748  \n",
       "                    yes             428            428        428          428  \n",
       "basic.6y            no             2104           2104       2104         2104  \n",
       "                    yes             188            188        188          188  \n",
       "basic.9y            no             5572           5572       5572         5572  \n",
       "                    yes             473            473        473          473  \n",
       "high.school         no             8484           8484       8484         8484  \n",
       "                    yes            1031           1031       1031         1031  \n",
       "illiterate          no               14             14         14           14  \n",
       "                    yes               4              4          4            4  \n",
       "professional.course no             4648           4648       4648         4648  \n",
       "                    yes             595            595        595          595  \n",
       "university.degree   no            10498          10498      10498        10498  \n",
       "                    yes            1670           1670       1670         1670  \n",
       "unknown             no             1480           1480       1480         1480  \n",
       "                    yes             251            251        251          251  "
      ]
     },
     "execution_count": 14,
     "metadata": {},
     "output_type": "execute_result"
    }
   ],
   "source": [
    "df.groupby(['education','y']).count()"
   ]
  },
  {
   "cell_type": "code",
   "execution_count": 110,
   "metadata": {},
   "outputs": [
    {
     "data": {
      "image/png": "[encoded data removed]",
      "text/plain": [
       "<Figure size 1440x576 with 1 Axes>"
      ]
     },
     "metadata": {
      "needs_background": "light"
     },
     "output_type": "display_data"
    }
   ],
   "source": [
    "#OUT COME COUNT BASED ON EDUCATION\n",
    "fig, ax = plt.subplots()\n",
    "fig.set_size_inches(20, 8)\n",
    "sns.countplot(x = 'education', hue='y', data = df, palette='Set1')\n",
    "ax.set_xticklabels(df['education'].unique())\n",
    "ax.set_xlabel('EDUCATION', fontsize=15)\n",
    "ax.set_ylabel('COUNT', fontsize=15)\n",
    "ax.set_title('EDUCATION DISTRIBUTION', fontsize=20)\n",
    "ax.tick_params(labelsize=15)\n",
    "sns.despine()"
   ]
  },
  {
   "cell_type": "markdown",
   "metadata": {},
   "source": [
    "At first glance it looks like high school and college educated prospects are the two largest groups. This falls in line with what I assumed. Let's have a look at the percentages of that data."
   ]
  },
  {
   "cell_type": "code",
   "execution_count": 64,
   "metadata": {
    "scrolled": true
   },
   "outputs": [
    {
     "name": "stdout",
     "output_type": "stream",
     "text": [
      "College Educated Percentage of Data: 0.23101388754006022\n",
      "High School Educated Percentage of Data: 0.29542585218995826\n"
     ]
    }
   ],
   "source": [
    "#Splitting the data into the appropriate proportions\n",
    "\n",
    "high_school_total = df.loc[df['education']=='high.school'] #total number of customers with highschool education\n",
    "college_total = df.loc[df['education']=='university.degree'] #total number of customers with college level education\n",
    "high_school_y = high_school_total.loc[high_school_total['y']=='yes']# number of sign ups for people with highschool education\n",
    "college_y = college_total.loc[college_total['y'] == 'yes'] #number of sign ups for people with college education\n",
    "\n",
    "\n",
    "\n",
    "#let's see how much of the data is categorized as high school and college.\n",
    "\n",
    "\n",
    "print('College Educated Percentage of Data: {}'.format(len(high_school_total)/len(df))) \n",
    "print('High School Educated Percentage of Data: {}'.format(len(college_total)/len(df)))\n"
   ]
  },
  {
   "cell_type": "markdown",
   "metadata": {},
   "source": [
    "Since these two proportions represent a little over 50% of the data, most people will fall into one of these two categories. I'll conduct my hypothesis testing on the proportion of signups among high school educated prospects versus college educated prospects."
   ]
  },
  {
   "cell_type": "markdown",
   "metadata": {},
   "source": [
    "$H_0: P_1 = P_2$\n",
    "\n",
    "$H_A: P_1  ≠ P_2$\n",
    "\n",
    "**Null Hypothesis:**\n",
    "\n",
    "This marketing campaign was equally successful with both college educated and highschool educated prospects.\n",
    "\n",
    "\n",
    "In measuring the success of this campaign, the proportion of success for customers with a high school education and a college education are equal.\n",
    "\n",
    "**Alternate Hypothesis:** \n",
    "\n",
    "This campaign was more successful for one group over another.\n",
    "\n",
    "\n"
   ]
  },
  {
   "cell_type": "markdown",
   "metadata": {},
   "source": [
    "Again, to test this Hypothesis I'll go with a two sample Z-Test."
   ]
  },
  {
   "cell_type": "code",
   "execution_count": 63,
   "metadata": {},
   "outputs": [
    {
     "name": "stdout",
     "output_type": "stream",
     "text": [
      " z-stat = 6.392754392508445 \n",
      " p-value = 1.629238494638004e-10\n"
     ]
    }
   ],
   "source": [
    "# # using statsmodels\n",
    "# count{int, array_like}\n",
    "# the number of successes in nobs trials. If this is array_like, \n",
    "# then the assumption is that this represents the number of successes for \n",
    "# each independent sample\n",
    "# nobs{int, array_like}\n",
    "# the number of trials or observations, with the same length as count.\n",
    "\n",
    "high_school_total = df.loc[df['education']=='high.school'] #total number of customers with highschool education\n",
    "college_total = df.loc[df['education']=='university.degree'] #total number of customers with college level education\n",
    "high_school_y = high_school_total.loc[high_school_total['y']=='yes']# number of sign ups for people with highschool education\n",
    "college_y = college_total.loc[college_total['y'] == 'yes'] #number of sign ups for people with college education\n",
    "\n",
    "\n",
    "\n",
    "count = np.array([len(college_y), len(high_school_y)])\n",
    "nobs = np.array([len(college_total), len(high_school_total)])\n",
    "z,p = proportions_ztest(count, nobs, value=0, alternative='two-sided')\n",
    "print(' z-stat = {z} \\n p-value = {p}'.format(z=z,p=p))"
   ]
  },
  {
   "cell_type": "markdown",
   "metadata": {},
   "source": [
    "With This P value, we can reject the null hypothesis that the proportions are equal. However, let's look at the effect size of this measurement as well."
   ]
  },
  {
   "cell_type": "markdown",
   "metadata": {},
   "source": [
    "**Measuring Effect Size**"
   ]
  },
  {
   "cell_type": "markdown",
   "metadata": {},
   "source": [
    "h =  theta1 −  theta2\n",
    "\n",
    "theta =   2 arcsine(SQRT(P))"
   ]
  },
  {
   "cell_type": "code",
   "execution_count": 70,
   "metadata": {},
   "outputs": [
    {
     "data": {
      "text/plain": [
       "-0.04408270568413658"
      ]
     },
     "execution_count": 70,
     "metadata": {},
     "output_type": "execute_result"
    }
   ],
   "source": [
    "p1 = len(high_school_y)/len(high_school_total)\n",
    "p2 = len(college_y)/len(college_total)\n",
    "theta1 = np.arcsin(np.sqrt(p1))\n",
    "theta2 = np.arcsin(np.sqrt(p2))\n",
    "cohensh2 = theta1 - theta2\n",
    "cohensh2"
   ]
  },
  {
   "cell_type": "markdown",
   "metadata": {},
   "source": [
    "That is a really small effect size. The means that although the difference in education is statistically significant, that difference is not very meaningful. Let's take it a bit further and conduct a power analysis."
   ]
  },
  {
   "cell_type": "markdown",
   "metadata": {},
   "source": [
    "**Measuring Power**"
   ]
  },
  {
   "cell_type": "code",
   "execution_count": 74,
   "metadata": {},
   "outputs": [
    {
     "data": {
      "text/plain": [
       "0.19956615804032818"
      ]
     },
     "execution_count": 74,
     "metadata": {},
     "output_type": "execute_result"
    }
   ],
   "source": [
    "\n",
    "statsmodels.stats.power.zt_ind_solve_power(effect_size = cohensh2, nobs1 = len(high_school_y), alpha = .05, power = None, ratio = len(college_y)/len(high_school_y))\n",
    "\n"
   ]
  },
  {
   "cell_type": "code",
   "execution_count": 80,
   "metadata": {},
   "outputs": [
    {
     "data": {
      "image/png": "[encoded data removed]",
      "text/plain": [
       "<Figure size 432x288 with 2 Axes>"
      ]
     },
     "metadata": {
      "needs_background": "light"
     },
     "output_type": "display_data"
    }
   ],
   "source": [
    "fig = plt.figure()\n",
    "ax = fig.add_subplot(2, 1, 1)\n",
    "fig = TTestIndPower().plot_power(dep_var='nobs',\n",
    "                                 nobs=np.arange(2, 2000),\n",
    "                                 effect_size=np.array([0.2, 0.5, 0.8, .04]),\n",
    "                                 alpha=0.01,\n",
    "                                 ax=ax, title='Power of T-Proportion Test' + '\\n' + r'$\\alpha = 0.01$')\n",
    "plt.subplots_adjust(bottom=0.2, right=0.8, top=2.0)\n",
    "ax.get_legend().remove()\n",
    "ax = fig.add_subplot(2, 1, 2)\n",
    "fig = TTestIndPower().plot_power(dep_var='nobs',\n",
    "                                 nobs=np.arange(2, 2000),\n",
    "                                 effect_size=np.array([0.2, 0.5, 0.8, .04]),\n",
    "                                 alpha=0.05,\n",
    "                                 ax=ax, title=r'$\\alpha = 0.05$')"
   ]
  },
  {
   "cell_type": "markdown",
   "metadata": {},
   "source": [
    "**Conclusion**\n",
    "\n",
    "The fact that the power for this experiment is very low is not surprising. This is because power measures the ability to detect a difference when one exists. We've already concluded that there is not a meaningful difference between the two proportions so the ability to detect any differences is understandably small. We can conclude that we should not seperate our customer avatar based on whether they have a college versus high school education. "
   ]
  },
  {
   "cell_type": "markdown",
   "metadata": {},
   "source": [
    "# Housing & Loan Testing"
   ]
  },
  {
   "cell_type": "markdown",
   "metadata": {},
   "source": [
    "**Housing:**\n",
    "\n",
    "$H_0: P_1 = P_2$\n",
    "\n",
    "$H_A: P_1  ≠ P_2$\n",
    "\n",
    "**Null Hypothesis:**\n",
    "\n",
    "This marketing campaign was equally successful with prospects that had a housing loan as those that did not.\n",
    "\n",
    "\n",
    "**Alternate Hypothesis:** \n",
    "\n",
    "This campaign was more successful for one group over another."
   ]
  },
  {
   "cell_type": "code",
   "execution_count": 103,
   "metadata": {},
   "outputs": [
    {
     "name": "stdout",
     "output_type": "stream",
     "text": [
      " z-stat = 6.392754392508445 \n",
      " p-value = 1.629238494638004e-10\n"
     ]
    }
   ],
   "source": [
    "client_Yhousing = df.loc[df['housing']   == 'yes']\n",
    "client_Nhousing = df.loc[df['housing']   ==  'no']\n",
    "Yhousing_Y      = client_Yhousing.loc[client_Yhousing['y'] == 'yes']\n",
    "Nhousing_Y      = client_Nhousing.loc[client_Nhousing['y'] == 'yes']\n",
    "\n",
    "count = np.array([len(Yhousing_Y), len(Nhousing_Y)])\n",
    "nobs  = np.array([len(client_Yhousing), len(client_Nhousing)])\n",
    "stat, pval   = proportions_ztest(count, nobs, value=0, alternative='two-sided')\n",
    "print(' z-stat = {z} \\n p-value = {p}'.format(z=z,p=p))"
   ]
  },
  {
   "cell_type": "markdown",
   "metadata": {},
   "source": [
    "**Effect Size Calculation**"
   ]
  },
  {
   "cell_type": "code",
   "execution_count": 104,
   "metadata": {},
   "outputs": [
    {
     "data": {
      "text/plain": [
       "0.023415826653056193"
      ]
     },
     "execution_count": 104,
     "metadata": {},
     "output_type": "execute_result"
    }
   ],
   "source": [
    "\n",
    "p1 = len(Yhousing_Y)/len(client_Yhousing)\n",
    "p2 = len(Nhousing_Y)/len(client_Nhousing)\n",
    "theta1 = 2 * (np.arcsin(np.sqrt(p1)))\n",
    "theta2 = 2 * (np.arcsin(np.sqrt(p2)))\n",
    "cohensh_H = theta1 - theta2\n",
    "cohensh_H"
   ]
  },
  {
   "cell_type": "markdown",
   "metadata": {},
   "source": [
    "**Power Analysis**"
   ]
  },
  {
   "cell_type": "code",
   "execution_count": 106,
   "metadata": {},
   "outputs": [
    {
     "data": {
      "text/plain": [
       "0.12280447737941334"
      ]
     },
     "execution_count": 106,
     "metadata": {},
     "output_type": "execute_result"
    }
   ],
   "source": [
    "statsmodels.stats.power.zt_ind_solve_power(effect_size = cohensh_H, nobs1 = len(Yhousing_Y), alpha = .05, power = None, ratio = len(Nhousing_Y)/len(Yhousing_Y))\n",
    "\n"
   ]
  },
  {
   "cell_type": "code",
   "execution_count": 107,
   "metadata": {},
   "outputs": [
    {
     "data": {
      "image/png": "[encoded data removed]",
      "text/plain": [
       "<Figure size 432x288 with 2 Axes>"
      ]
     },
     "metadata": {
      "needs_background": "light"
     },
     "output_type": "display_data"
    }
   ],
   "source": [
    "fig = plt.figure()\n",
    "ax = fig.add_subplot(2, 1, 1)\n",
    "fig = TTestIndPower().plot_power(dep_var='nobs',\n",
    "                                  nobs=np.arange(2, 10000),\n",
    "                                  effect_size=np.array([0.2, 0.5, 0.8, .023]),\n",
    "                                  alpha=0.01,\n",
    "                                  ax=ax, title='Power of T-Proportion Test' + '\\n' + r'$\\alpha = 0.01$')\n",
    "plt.subplots_adjust(bottom=0.2, right=0.8, top=2.0)\n",
    "ax.get_legend().remove()\n",
    "ax = fig.add_subplot(2, 1, 2)\n",
    "fig = TTestIndPower().plot_power(dep_var='nobs',\n",
    "                                 nobs=np.arange(2, 10000),\n",
    "                                 effect_size=np.array([0.2, 0.5, 0.8, .023]),\n",
    "                                 alpha=0.05,\n",
    "                                 ax=ax, title=r'$\\alpha = 0.05$')"
   ]
  },
  {
   "cell_type": "markdown",
   "metadata": {},
   "source": [
    "**Housing:**\n",
    "\n",
    "$H_0: P_1 = P_2$\n",
    "\n",
    "$H_A: P_1  ≠ P_2$\n",
    "\n",
    "**Null Hypothesis:**\n",
    "\n",
    "This marketing campaign was equally successful with prospects that had a personal loan as those that did not.\n",
    "\n",
    "\n",
    "**Alternate Hypothesis:** \n",
    "\n",
    "This campaign was more successful for one group over another."
   ]
  },
  {
   "cell_type": "code",
   "execution_count": 109,
   "metadata": {},
   "outputs": [
    {
     "name": "stdout",
     "output_type": "stream",
     "text": [
      " z-stat = -0.9386245311739011 \n",
      " p-value = 0.347923553300198\n"
     ]
    }
   ],
   "source": [
    "client_Yloan = df.loc[df['loan']   == 'yes']\n",
    "client_Nloan = df.loc[df['loan']   ==  'no']\n",
    "Yloan_Y      = client_Yloan.loc[client_Yloan['y'] == 'yes']\n",
    "Nloan_Y      = client_Nloan.loc[client_Nloan['y'] == 'yes']\n",
    "\n",
    "count = np.array([len(Yloan_Y), len(Nloan_Y)])\n",
    "nobs  = np.array([len(client_Yloan), len(client_Nloan)])\n",
    "z,p   = proportions_ztest(count, nobs, value=0, alternative='two-sided')\n",
    "print(' z-stat = {z} \\n p-value = {p}'.format(z=z,p=p))"
   ]
  },
  {
   "cell_type": "markdown",
   "metadata": {},
   "source": [
    "**Conclusion:**\n",
    "\n",
    "We fail to reject the null hypothesis and conclude that the difference in the proportion of these two subsets of are data are not statistically significant."
   ]
  },
  {
   "cell_type": "code",
   "execution_count": null,
   "metadata": {},
   "outputs": [],
   "source": []
  }
 ],
 "metadata": {
  "kernelspec": {
   "display_name": "Python 3",
   "language": "python",
   "name": "python3"
  },
  "language_info": {
   "codemirror_mode": {
    "name": "ipython",
    "version": 3
   },
   "file_extension": ".py",
   "mimetype": "text/x-python",
   "name": "python",
   "nbconvert_exporter": "python",
   "pygments_lexer": "ipython3",
   "version": "3.7.3"
  }
 },
 "nbformat": 4,
 "nbformat_minor": 2
}
